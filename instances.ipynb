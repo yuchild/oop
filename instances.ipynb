{
 "cells": [
  {
   "cell_type": "code",
   "execution_count": 1,
   "metadata": {},
   "outputs": [],
   "source": [
    "# python oop instances\n",
    "\n",
    "class employee:\n",
    "    ..."
   ]
  },
  {
   "cell_type": "code",
   "execution_count": 2,
   "metadata": {},
   "outputs": [],
   "source": [
    "emp_1 = employee()\n",
    "emp_2 = employee()"
   ]
  },
  {
   "cell_type": "code",
   "execution_count": 3,
   "metadata": {},
   "outputs": [
    {
     "name": "stdout",
     "output_type": "stream",
     "text": [
      "<__main__.employee object at 0x7f4a490a5be0>\n",
      "<__main__.employee object at 0x7f4a490a5df0>\n"
     ]
    }
   ],
   "source": [
    "print(emp_1)\n",
    "print(emp_2)"
   ]
  },
  {
   "cell_type": "code",
   "execution_count": 4,
   "metadata": {},
   "outputs": [],
   "source": [
    "emp_1.first = 'David'\n",
    "emp_1.last = 'Smith'\n",
    "emp_1.email = 'dsmith@company.com'\n",
    "emp_1.pay = 50000\n",
    "\n",
    "emp_2.first = 'Test'\n",
    "emp_2.last = 'User'\n",
    "emp_2.email = 'tuser@company.com'\n",
    "emp_2.pay = 60000"
   ]
  },
  {
   "cell_type": "code",
   "execution_count": 5,
   "metadata": {},
   "outputs": [
    {
     "name": "stdout",
     "output_type": "stream",
     "text": [
      "dsmith@company.com\n",
      "tuser@company.com\n"
     ]
    }
   ],
   "source": [
    "print(emp_1.email)\n",
    "print(emp_2.email)"
   ]
  },
  {
   "cell_type": "code",
   "execution_count": 6,
   "metadata": {},
   "outputs": [
    {
     "name": "stdout",
     "output_type": "stream",
     "text": [
      "dsmith@company.com\n",
      "tuser@company.com\n",
      "David Smith\n",
      "Test User\n"
     ]
    }
   ],
   "source": [
    "class employee:\n",
    "    \n",
    "    def __init__(self, first_name, last_name, compensation): # constructor\n",
    "        self.first_name = first_name\n",
    "        self.last_name = last_name\n",
    "        self.email = first_name[-1].lower() + last_name.lower() + '@company.com'\n",
    "        self.compensation = compensation\n",
    "        \n",
    "    def fullname(self):  # method to return full name\n",
    "        return f'{self.first_name} {self.last_name}'\n",
    "        \n",
    "emp1 = employee('David', 'Smith', 50000)\n",
    "emp2 = employee('Test', 'User', 60000)\n",
    "\n",
    "print(emp1.email)\n",
    "print(emp2.email)\n",
    "print(emp1.fullname())\n",
    "print(emp2.fullname())"
   ]
  },
  {
   "cell_type": "code",
   "execution_count": 7,
   "metadata": {},
   "outputs": [
    {
     "name": "stdout",
     "output_type": "stream",
     "text": [
      "Soda costs $1.89 with tax is $2.07\n",
      "Sandwich costs $3.89 with tax is $4.27\n"
     ]
    }
   ],
   "source": [
    "class menu:\n",
    "    \n",
    "    def __init__(self, name, price):  # constructor\n",
    "        self.name = name\n",
    "        self.price = price\n",
    "        \n",
    "    def add_tax(self):\n",
    "        return round(self.price * 1.0975, 2)\n",
    "    \n",
    "item1 = menu('soda', 1.89)\n",
    "item2 = menu('sandwich', 3.89)\n",
    "\n",
    "print(f'{item1.name.title()} costs ${item1.price} with tax is ${item1.add_tax()}')\n",
    "print(f'{item2.name.title()} costs ${item2.price} with tax is ${item2.add_tax()}')"
   ]
  },
  {
   "cell_type": "code",
   "execution_count": null,
   "metadata": {},
   "outputs": [],
   "source": []
  }
 ],
 "metadata": {
  "kernelspec": {
   "display_name": "Python 3",
   "language": "python",
   "name": "python3"
  },
  "language_info": {
   "codemirror_mode": {
    "name": "ipython",
    "version": 3
   },
   "file_extension": ".py",
   "mimetype": "text/x-python",
   "name": "python",
   "nbconvert_exporter": "python",
   "pygments_lexer": "ipython3",
   "version": "3.8.10"
  }
 },
 "nbformat": 4,
 "nbformat_minor": 4
}
