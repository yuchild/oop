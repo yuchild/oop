{
 "cells": [
  {
   "cell_type": "code",
   "execution_count": 1,
   "metadata": {},
   "outputs": [],
   "source": [
    "# from: https://www.programiz.com/python-programming/object-oriented-programming"
   ]
  },
  {
   "cell_type": "code",
   "execution_count": 2,
   "metadata": {},
   "outputs": [],
   "source": [
    "class parrot:\n",
    "    # class attribute\n",
    "    species = \"bird\"\n",
    "    \n",
    "    # instance attribute\n",
    "    def __init__(self, name, age):\n",
    "        self.name = name\n",
    "        self.age = age\n",
    "    \n",
    "    # instance method\n",
    "    def sing(self, song):\n",
    "        return f'{self.name} sings {song}.'\n",
    "    \n",
    "    def dance(self):\n",
    "        return f'{self.name} is now dancing.'"
   ]
  },
  {
   "cell_type": "code",
   "execution_count": 3,
   "metadata": {},
   "outputs": [],
   "source": [
    "blu = parrot(\"Blu\", 10)\n",
    "woo = parrot(\"Woo\", 15)"
   ]
  },
  {
   "cell_type": "code",
   "execution_count": 4,
   "metadata": {},
   "outputs": [
    {
     "data": {
      "text/plain": [
       "'Blu'"
      ]
     },
     "execution_count": 4,
     "metadata": {},
     "output_type": "execute_result"
    }
   ],
   "source": [
    "blu.name"
   ]
  },
  {
   "cell_type": "code",
   "execution_count": 5,
   "metadata": {},
   "outputs": [
    {
     "data": {
      "text/plain": [
       "10"
      ]
     },
     "execution_count": 5,
     "metadata": {},
     "output_type": "execute_result"
    }
   ],
   "source": [
    "blu.age"
   ]
  },
  {
   "cell_type": "code",
   "execution_count": 6,
   "metadata": {},
   "outputs": [
    {
     "data": {
      "text/plain": [
       "'bird'"
      ]
     },
     "execution_count": 6,
     "metadata": {},
     "output_type": "execute_result"
    }
   ],
   "source": [
    "blu.__class__.species"
   ]
  },
  {
   "cell_type": "code",
   "execution_count": 7,
   "metadata": {},
   "outputs": [
    {
     "data": {
      "text/plain": [
       "'bird'"
      ]
     },
     "execution_count": 7,
     "metadata": {},
     "output_type": "execute_result"
    }
   ],
   "source": [
    "woo.__class__.species"
   ]
  },
  {
   "cell_type": "code",
   "execution_count": 8,
   "metadata": {},
   "outputs": [
    {
     "data": {
      "text/plain": [
       "'Blu sings happy.'"
      ]
     },
     "execution_count": 8,
     "metadata": {},
     "output_type": "execute_result"
    }
   ],
   "source": [
    "blu.sing(\"happy\")"
   ]
  },
  {
   "cell_type": "code",
   "execution_count": 9,
   "metadata": {},
   "outputs": [
    {
     "data": {
      "text/plain": [
       "'Blu is now dancing.'"
      ]
     },
     "execution_count": 9,
     "metadata": {},
     "output_type": "execute_result"
    }
   ],
   "source": [
    "blu.dance()"
   ]
  },
  {
   "cell_type": "code",
   "execution_count": 10,
   "metadata": {},
   "outputs": [],
   "source": [
    "# Inheritance\n",
    "\n",
    "# Paent class\n",
    "class bird:\n",
    "    def __init__(self):\n",
    "        print(\"Bird is ready\")\n",
    "    \n",
    "    def whoIsThis(self):\n",
    "        print(\"Bird\")\n",
    "        \n",
    "    def swim(self):\n",
    "        print(\"Swim faster\")\n",
    "        \n",
    "# Child class\n",
    "class penguin(bird):\n",
    "    \n",
    "    def __init__(self): \n",
    "        #call super function\n",
    "        super().__init__()\n",
    "        print(\"Penguin is ready\")\n",
    "        \n",
    "    \n",
    "    def whoIsThis(self):\n",
    "        print(\"penguin\")\n",
    "    \n",
    "    def run(self):\n",
    "        print(\"Run faster\")"
   ]
  },
  {
   "cell_type": "code",
   "execution_count": 11,
   "metadata": {},
   "outputs": [
    {
     "name": "stdout",
     "output_type": "stream",
     "text": [
      "Bird is ready\n",
      "Penguin is ready\n"
     ]
    }
   ],
   "source": [
    "peggy = penguin()"
   ]
  },
  {
   "cell_type": "code",
   "execution_count": 12,
   "metadata": {},
   "outputs": [
    {
     "name": "stdout",
     "output_type": "stream",
     "text": [
      "penguin\n"
     ]
    }
   ],
   "source": [
    "peggy.whoIsThis()"
   ]
  },
  {
   "cell_type": "code",
   "execution_count": 13,
   "metadata": {},
   "outputs": [
    {
     "name": "stdout",
     "output_type": "stream",
     "text": [
      "Swim faster\n"
     ]
    }
   ],
   "source": [
    "peggy.swim()"
   ]
  },
  {
   "cell_type": "code",
   "execution_count": 14,
   "metadata": {},
   "outputs": [
    {
     "name": "stdout",
     "output_type": "stream",
     "text": [
      "Run faster\n"
     ]
    }
   ],
   "source": [
    "peggy.run()"
   ]
  },
  {
   "cell_type": "code",
   "execution_count": 15,
   "metadata": {},
   "outputs": [],
   "source": [
    "# encapsulation\n",
    "\n",
    "class computer:\n",
    "    \n",
    "    def __init__(self):\n",
    "        self.__maxprice = 900\n",
    "        \n",
    "    def sell(self):\n",
    "        print(f'Selling price: {self.__maxprice}')\n",
    "        \n",
    "    def setMaxPrice(self, price):\n",
    "        self.__maxprice = price\n",
    "    "
   ]
  },
  {
   "cell_type": "code",
   "execution_count": 16,
   "metadata": {},
   "outputs": [],
   "source": [
    "comp = computer()"
   ]
  },
  {
   "cell_type": "code",
   "execution_count": 17,
   "metadata": {},
   "outputs": [
    {
     "name": "stdout",
     "output_type": "stream",
     "text": [
      "Selling price: 900\n"
     ]
    }
   ],
   "source": [
    "comp.sell()"
   ]
  },
  {
   "cell_type": "code",
   "execution_count": 18,
   "metadata": {},
   "outputs": [
    {
     "name": "stdout",
     "output_type": "stream",
     "text": [
      "Selling price: 900\n"
     ]
    }
   ],
   "source": [
    "# change selling price\n",
    "comp.__maxprice = 1000\n",
    "comp.sell()"
   ]
  },
  {
   "cell_type": "code",
   "execution_count": 19,
   "metadata": {},
   "outputs": [
    {
     "name": "stdout",
     "output_type": "stream",
     "text": [
      "Selling price: 1000\n"
     ]
    }
   ],
   "source": [
    "comp.setMaxPrice(1000)\n",
    "comp.sell()"
   ]
  },
  {
   "cell_type": "code",
   "execution_count": 20,
   "metadata": {},
   "outputs": [],
   "source": [
    "# polymorphism \n",
    "\n",
    "class parrot:\n",
    "    \n",
    "    def fly(self):\n",
    "        print('parrot can fly')\n",
    "    \n",
    "    def swim(self):\n",
    "        print(\"parrot can't swim\")\n",
    "        \n",
    "class penguin:\n",
    "    \n",
    "    def fly(self):\n",
    "        print(\"penguin can't fly\")\n",
    "    \n",
    "    def swim(self):\n",
    "        print(\"penguin can swim\")\n",
    "        \n",
    "# common inherface\n",
    "\n",
    "def flying_test(bird_):\n",
    "    bird_.fly()"
   ]
  },
  {
   "cell_type": "code",
   "execution_count": 21,
   "metadata": {},
   "outputs": [],
   "source": [
    "# instantiate objects\n",
    "\n",
    "blu = parrot()\n",
    "peggy = penguin()"
   ]
  },
  {
   "cell_type": "code",
   "execution_count": 22,
   "metadata": {},
   "outputs": [
    {
     "name": "stdout",
     "output_type": "stream",
     "text": [
      "parrot can fly\n"
     ]
    }
   ],
   "source": [
    "flying_test(blu)"
   ]
  },
  {
   "cell_type": "code",
   "execution_count": 23,
   "metadata": {},
   "outputs": [
    {
     "name": "stdout",
     "output_type": "stream",
     "text": [
      "penguin can't fly\n"
     ]
    }
   ],
   "source": [
    "flying_test(peggy)"
   ]
  },
  {
   "cell_type": "code",
   "execution_count": null,
   "metadata": {},
   "outputs": [],
   "source": []
  }
 ],
 "metadata": {
  "kernelspec": {
   "display_name": "Python 3",
   "language": "python",
   "name": "python3"
  },
  "language_info": {
   "codemirror_mode": {
    "name": "ipython",
    "version": 3
   },
   "file_extension": ".py",
   "mimetype": "text/x-python",
   "name": "python",
   "nbconvert_exporter": "python",
   "pygments_lexer": "ipython3",
   "version": "3.8.10"
  }
 },
 "nbformat": 4,
 "nbformat_minor": 4
}
