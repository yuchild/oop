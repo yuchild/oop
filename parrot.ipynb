{
 "cells": [
  {
   "cell_type": "code",
   "execution_count": 1,
   "metadata": {},
   "outputs": [],
   "source": [
    "# from: https://www.programiz.com/python-programming/object-oriented-programming"
   ]
  },
  {
   "cell_type": "code",
   "execution_count": 2,
   "metadata": {},
   "outputs": [],
   "source": [
    "class parrot:\n",
    "    # class attribute\n",
    "    species = 'bird'\n",
    "    \n",
    "    # instance attribute\n",
    "    def __init__(self, name, age):\n",
    "        self.name = name\n",
    "        self.age = age"
   ]
  },
  {
   "cell_type": "code",
   "execution_count": 3,
   "metadata": {},
   "outputs": [],
   "source": [
    "# instances of class parrot:\n",
    "blu = parrot('Blu', 10)\n",
    "woo = parrot('Woo', 15)"
   ]
  },
  {
   "cell_type": "code",
   "execution_count": 4,
   "metadata": {},
   "outputs": [
    {
     "name": "stdout",
     "output_type": "stream",
     "text": [
      "Blu is a bird\n",
      "Woo is also a bird\n"
     ]
    }
   ],
   "source": [
    "# access class attributes\n",
    "print(f'Blu is a {blu.__class__.species}')\n",
    "print(f'Woo is also a {woo.__class__.species}')"
   ]
  },
  {
   "cell_type": "code",
   "execution_count": 5,
   "metadata": {},
   "outputs": [
    {
     "name": "stdout",
     "output_type": "stream",
     "text": [
      "Blu is 10 years old\n",
      "Woo is 15 years old\n"
     ]
    }
   ],
   "source": [
    "# access instance attributes\n",
    "print(f'{blu.name} is {blu.age} years old')\n",
    "print(f'{woo.name} is {woo.age} years old')"
   ]
  },
  {
   "cell_type": "code",
   "execution_count": 6,
   "metadata": {},
   "outputs": [],
   "source": [
    "# now I try:\n",
    "\n",
    "class dog:\n",
    "    # class attributes\n",
    "    species = 'dog'\n",
    "    class_ = 'mammal'\n",
    "    \n",
    "    # instance attribute\n",
    "    def __init__(self, name, age, breed):\n",
    "        self.name = name\n",
    "        self.age = age\n",
    "        self.breed = breed"
   ]
  },
  {
   "cell_type": "code",
   "execution_count": 7,
   "metadata": {},
   "outputs": [],
   "source": [
    "# instantiate class dog\n",
    "fido = dog('Fido', 3, 'German Shephard')\n",
    "felix = dog('Felix', 4, 'Poodle')"
   ]
  },
  {
   "cell_type": "code",
   "execution_count": 8,
   "metadata": {},
   "outputs": [
    {
     "name": "stdout",
     "output_type": "stream",
     "text": [
      "Fido is a dog of class mammal\n",
      "Felix is a dog of class mammal\n"
     ]
    }
   ],
   "source": [
    "# access class attributes\n",
    "print(f'Fido is a {fido.__class__.species} of class {fido.__class__.class_}')\n",
    "print(f'Felix is a {felix.__class__.species} of class {felix.__class__.class_}')"
   ]
  },
  {
   "cell_type": "code",
   "execution_count": 9,
   "metadata": {
    "scrolled": true
   },
   "outputs": [
    {
     "name": "stdout",
     "output_type": "stream",
     "text": [
      "Fido is 3 years old and is a German Shephard\n",
      "Felix is 4 years old and is a Poodle\n"
     ]
    }
   ],
   "source": [
    "# access instance attributes\n",
    "print(f'{fido.name} is {fido.age} years old and is a {fido.breed}')\n",
    "print(f'{felix.name} is {felix.age} years old and is a {felix.breed}')"
   ]
  },
  {
   "cell_type": "code",
   "execution_count": 10,
   "metadata": {},
   "outputs": [],
   "source": [
    "# creating methods\n",
    "\n",
    "class team:\n",
    "    \n",
    "    # instance attributes\n",
    "    def __init__(self, name, dept):\n",
    "        self.name = name\n",
    "        self.dept = dept\n",
    "        \n",
    "    # instance method\n",
    "    def work(self, work):\n",
    "        return f'{self.name} is working on {work}'\n",
    "    \n",
    "    def vacation(self):\n",
    "        return f'Team {self.name} is on vacation'"
   ]
  },
  {
   "cell_type": "code",
   "execution_count": 11,
   "metadata": {},
   "outputs": [],
   "source": [
    "# intantiate the object\n",
    "finance = team('Freddie', 'Finance')"
   ]
  },
  {
   "cell_type": "code",
   "execution_count": 12,
   "metadata": {},
   "outputs": [
    {
     "name": "stdout",
     "output_type": "stream",
     "text": [
      "Freddie is working on foreclosures\n",
      "Team Freddie is on vacation\n",
      "Team Freddie is in the Finance Department\n"
     ]
    }
   ],
   "source": [
    "print(finance.work('foreclosures'))\n",
    "print(finance.vacation())\n",
    "print(f'Team {finance.name} is in the {finance.dept} Department')"
   ]
  },
  {
   "cell_type": "code",
   "execution_count": 13,
   "metadata": {},
   "outputs": [],
   "source": [
    "# inheritance\n",
    "\n",
    "class team:\n",
    "    \n",
    "    def __init__(self):\n",
    "        print('Team is ready')\n",
    "    \n",
    "    def whatIsThis(self):\n",
    "        print('Team')\n",
    "    \n",
    "    def work(self):\n",
    "        print('Work Faster!')\n",
    "\n",
    "# child class\n",
    "\n",
    "class finance_(team):\n",
    "    \n",
    "    def __init__(self):\n",
    "        # call super() furnction\n",
    "        super().__init__()\n",
    "        print('Finance is ready')\n",
    "        \n",
    "    def whatIsThis(self):\n",
    "        print('Finance!')\n",
    "    \n",
    "    def run(self):\n",
    "        print('Finance Runs THe World!')    "
   ]
  },
  {
   "cell_type": "code",
   "execution_count": 14,
   "metadata": {},
   "outputs": [
    {
     "name": "stdout",
     "output_type": "stream",
     "text": [
      "Team is ready\n",
      "Finance is ready\n",
      "Finance!\n",
      "Work Faster!\n",
      "Finance Runs THe World!\n"
     ]
    }
   ],
   "source": [
    "fin = finance_()\n",
    "fin.whatIsThis()\n",
    "fin.work()\n",
    "fin.run()"
   ]
  },
  {
   "cell_type": "code",
   "execution_count": 15,
   "metadata": {},
   "outputs": [],
   "source": [
    "# encapsulation - restrict access to methods and variables using _ or __\n",
    "\n",
    "class computer:\n",
    "    \n",
    "    def __init__(self):\n",
    "        self.__maxprice = 900\n",
    "        \n",
    "    def sell(self):\n",
    "        print(f'Selling Price: {self.__maxprice}')\n",
    "    \n",
    "    def setMaxPrice(self, price):\n",
    "        self.__maxprice = price"
   ]
  },
  {
   "cell_type": "code",
   "execution_count": 16,
   "metadata": {},
   "outputs": [
    {
     "name": "stdout",
     "output_type": "stream",
     "text": [
      "Selling Price: 900\n"
     ]
    }
   ],
   "source": [
    "c = computer()\n",
    "c.sell()"
   ]
  },
  {
   "cell_type": "code",
   "execution_count": 17,
   "metadata": {},
   "outputs": [
    {
     "name": "stdout",
     "output_type": "stream",
     "text": [
      "Selling Price: 900\n"
     ]
    }
   ],
   "source": [
    "# change the price, can't change it\n",
    "c.__maxprice = 1000\n",
    "c.sell()"
   ]
  },
  {
   "cell_type": "code",
   "execution_count": 18,
   "metadata": {},
   "outputs": [
    {
     "name": "stdout",
     "output_type": "stream",
     "text": [
      "Selling Price: 1000\n"
     ]
    }
   ],
   "source": [
    "# change using function\n",
    "c.setMaxPrice(1000)\n",
    "c.sell()"
   ]
  },
  {
   "cell_type": "code",
   "execution_count": 19,
   "metadata": {},
   "outputs": [],
   "source": [
    "# polymorphism \n",
    "\n",
    "class fin_team:\n",
    "    \n",
    "    def task1(self):\n",
    "        print('Finance Team Can Bank')\n",
    "        \n",
    "    def task2(self):\n",
    "        print(\"Finance Team Can't Tech\")\n",
    "\n",
    "class tech_team:\n",
    "    \n",
    "    def task1(self):\n",
    "        print('Tech Team Can Tech')\n",
    "        \n",
    "    def task2(self):\n",
    "        print(\"Tech Team Can't Bank\")"
   ]
  },
  {
   "cell_type": "code",
   "execution_count": 20,
   "metadata": {},
   "outputs": [],
   "source": [
    "# common interface\n",
    "def task1_test(t):\n",
    "    t.task1()"
   ]
  },
  {
   "cell_type": "code",
   "execution_count": 21,
   "metadata": {},
   "outputs": [],
   "source": [
    "# instantiate objects\n",
    "fin_ = fin_team()\n",
    "tech_ = tech_team()"
   ]
  },
  {
   "cell_type": "code",
   "execution_count": 22,
   "metadata": {},
   "outputs": [
    {
     "ename": "AttributeError",
     "evalue": "'finance_' object has no attribute 'task1'",
     "output_type": "error",
     "traceback": [
      "\u001b[0;31m---------------------------------------------------------------------------\u001b[0m",
      "\u001b[0;31mAttributeError\u001b[0m                            Traceback (most recent call last)",
      "\u001b[0;32m<ipython-input-22-99fe8fa583b5>\u001b[0m in \u001b[0;36m<module>\u001b[0;34m\u001b[0m\n\u001b[1;32m      1\u001b[0m \u001b[0;31m# passing the object\u001b[0m\u001b[0;34m\u001b[0m\u001b[0;34m\u001b[0m\u001b[0;34m\u001b[0m\u001b[0m\n\u001b[0;32m----> 2\u001b[0;31m \u001b[0mtask1_test\u001b[0m\u001b[0;34m(\u001b[0m\u001b[0mfin\u001b[0m\u001b[0;34m)\u001b[0m\u001b[0;34m\u001b[0m\u001b[0;34m\u001b[0m\u001b[0m\n\u001b[0m\u001b[1;32m      3\u001b[0m \u001b[0mtesk1_test\u001b[0m\u001b[0;34m(\u001b[0m\u001b[0mtech\u001b[0m\u001b[0;34m)\u001b[0m\u001b[0;34m\u001b[0m\u001b[0;34m\u001b[0m\u001b[0m\n",
      "\u001b[0;32m<ipython-input-20-18ba634ff060>\u001b[0m in \u001b[0;36mtask1_test\u001b[0;34m(t)\u001b[0m\n\u001b[1;32m      1\u001b[0m \u001b[0;31m# common interface\u001b[0m\u001b[0;34m\u001b[0m\u001b[0;34m\u001b[0m\u001b[0;34m\u001b[0m\u001b[0m\n\u001b[1;32m      2\u001b[0m \u001b[0;32mdef\u001b[0m \u001b[0mtask1_test\u001b[0m\u001b[0;34m(\u001b[0m\u001b[0mt\u001b[0m\u001b[0;34m)\u001b[0m\u001b[0;34m:\u001b[0m\u001b[0;34m\u001b[0m\u001b[0;34m\u001b[0m\u001b[0m\n\u001b[0;32m----> 3\u001b[0;31m     \u001b[0mt\u001b[0m\u001b[0;34m.\u001b[0m\u001b[0mtask1\u001b[0m\u001b[0;34m(\u001b[0m\u001b[0;34m)\u001b[0m\u001b[0;34m\u001b[0m\u001b[0;34m\u001b[0m\u001b[0m\n\u001b[0m",
      "\u001b[0;31mAttributeError\u001b[0m: 'finance_' object has no attribute 'task1'"
     ]
    }
   ],
   "source": [
    "# passing the object\n",
    "task1_test(fin)\n",
    "tesk1_test(tech)"
   ]
  },
  {
   "cell_type": "code",
   "execution_count": null,
   "metadata": {},
   "outputs": [],
   "source": []
  }
 ],
 "metadata": {
  "kernelspec": {
   "display_name": "Python 3",
   "language": "python",
   "name": "python3"
  },
  "language_info": {
   "codemirror_mode": {
    "name": "ipython",
    "version": 3
   },
   "file_extension": ".py",
   "mimetype": "text/x-python",
   "name": "python",
   "nbconvert_exporter": "python",
   "pygments_lexer": "ipython3",
   "version": "3.8.10"
  }
 },
 "nbformat": 4,
 "nbformat_minor": 4
}
